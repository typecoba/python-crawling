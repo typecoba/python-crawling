{
 "cells": [
  {
   "cell_type": "markdown",
   "metadata": {},
   "source": [
    "scrapy는 html 크롤링하는데 최적화된 프래임웤같음..\n",
    "ajax 지연로딩의 경우 어짜피 selenium을 써야함.."
   ]
  },
  {
   "cell_type": "markdown",
   "metadata": {},
   "source": [
    "scrapy의 기본 사용은 터미널 환경에서 프로젝트 생성으로 한다.\n",
    "> scrapy startproject projectname"
   ]
  },
  {
   "cell_type": "markdown",
   "metadata": {},
   "source": [
    "생성된 템플릿을 가이드에 맞게 수정하여 크롤링 프로젝트를 만듦\n",
    ">/items\n",
    "/middlewares\n",
    "/pipelines\n",
    "/settings"
   ]
  },
  {
   "cell_type": "markdown",
   "metadata": {},
   "source": [
    "한프로젝트 내에 여러 크롤러가 있을 수 있음\n",
    "프로젝트 내부에서 크롤러 도메인별로 spider 생성\n",
    "> scrapy genspider gmarket www.gmarket.co.kr"
   ]
  },
  {
   "cell_type": "markdown",
   "metadata": {},
   "source": [
    "크롤링 실행\n",
    "> scrapy crawl gmarket"
   ]
  },
  {
   "cell_type": "markdown",
   "metadata": {},
   "source": [
    "쉘 화면 실행\n",
    ">scrapy shell \"주소\"\n",
    "><br>view(response)\n",
    "><br>"
   ]
  },
  {
   "cell_type": "code",
   "execution_count": null,
   "metadata": {},
   "outputs": [],
   "source": []
  }
 ],
 "metadata": {
  "kernelspec": {
   "display_name": "Python 3",
   "language": "python",
   "name": "python3"
  },
  "language_info": {
   "codemirror_mode": {
    "name": "ipython",
    "version": 3
   },
   "file_extension": ".py",
   "mimetype": "text/x-python",
   "name": "python",
   "nbconvert_exporter": "python",
   "pygments_lexer": "ipython3",
   "version": "3.7.6"
  }
 },
 "nbformat": 4,
 "nbformat_minor": 4
}
