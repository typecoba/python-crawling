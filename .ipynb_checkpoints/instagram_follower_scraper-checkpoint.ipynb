{
 "cells": [
  {
   "cell_type": "markdown",
   "metadata": {},
   "source": [
    "#### Import the following packages"
   ]
  },
  {
   "cell_type": "code",
   "execution_count": 8,
   "metadata": {
    "collapsed": false
   },
   "outputs": [],
   "source": [
    "import time\n",
    "from selenium import webdriver\n",
    "from selenium.webdriver.common.action_chains import ActionChains\n",
    "from selenium.webdriver.common.by import By\n",
    "from selenium.webdriver.common.keys import Keys\n",
    "from selenium.webdriver.chrome.options import Options\n",
    "from selenium.webdriver.support.ui import WebDriverWait\n",
    "from selenium.webdriver.support import expected_conditions as EC\n",
    "\n",
    "import pandas as pd"
   ]
  },
  {
   "cell_type": "code",
   "execution_count": 9,
   "metadata": {
    "collapsed": false
   },
   "outputs": [],
   "source": [
    "# clear() 함수가 작동하지 않기 때문에.. 원인은..? \n",
    "def clear(elem) :    \n",
    "    for i in range(len(elem.get_attribute('value'))):\n",
    "        elem.send_keys(Keys.BACKSPACE)"
   ]
  },
  {
   "cell_type": "markdown",
   "metadata": {},
   "source": [
    "#### Install the latest version of Chromedriver from here - https://chromedriver.storage.googleapis.com/index.html?path=2.42/\n",
    "\n",
    "#### Further, make sure that you have Google Chrome installed on your machine."
   ]
  },
  {
   "cell_type": "code",
   "execution_count": 31,
   "metadata": {
    "collapsed": true
   },
   "outputs": [],
   "source": [
    "username = 'typecoba'\n",
    "password = 'wkdrns*@09'\n",
    "\n",
    "# username = 'mediance09'\n",
    "# password = 'Md0322!'"
   ]
  },
  {
   "cell_type": "code",
   "execution_count": 32,
   "metadata": {
    "collapsed": true
   },
   "outputs": [],
   "source": []
  },
  {
   "cell_type": "raw",
   "metadata": {
    "collapsed": false
   },
   "source": [
    "class instagram():\n",
    "    def __init__(self):\n",
    "        # Enter the address where you have installed hrome driver on your machine\n",
    "        self.drv = webdriver.Chrome('./chromedriver_win32/chromedriver')\n",
    "        self.drv.get('https://www.instagram.com/')        \n",
    "    \n",
    "    # 로그인때마다 새로운 기기로 인식되는가봄... 한번만 인증하면 안될까..?\n",
    "    # 챌린지 과정 한번만 거치도록 하면 좋을듯한데..\n",
    "    def login(self):\n",
    "#         drv = self.drv\n",
    "        # login page\n",
    "        login_btn = WebDriverWait(driver=drv, timeout=10).until(lambda drv: drv.find_element_by_xpath(\"//a[contains(@href,'/login')]\"))\n",
    "        login_btn.click()\n",
    "        time.sleep(3)\n",
    "        \n",
    "        # username\n",
    "        login_user = WebDriverWait(driver=drv, timeout=10).until(lambda drv: drv.find_element_by_xpath(\"//input[@name='username']\"))\n",
    "        clear(login_user)\n",
    "        login_user.send_keys(username)\n",
    "        time.sleep(1)\n",
    "        \n",
    "        # password\n",
    "        login_pass = WebDriverWait(driver=drv, timeout=10).until(lambda drv: drv.find_element_by_xpath(\"//input[@name='password']\"))\n",
    "        clear(login_pass)\n",
    "        login_pass.send_keys(password)\n",
    "        time.sleep(1)\n",
    "        \n",
    "        # submit\n",
    "        login_submit = WebDriverWait(driver=drv, timeout=10).until(lambda drv: drv.find_element_by_xpath(\"//button[@type='submit']\"))\n",
    "        login_submit.click()\n",
    "        \n",
    "        time.sleep(5)\n",
    "     \n",
    "    def search(self):\n",
    "#         drv = self.drv\n",
    "        search =  WebDriverWait(driver=drv, timeout=10).until(lambda drv: drv.find_element_by_xpath('//*[@id=\"react-root\"]/section/nav/div[2]/div/div/div[2]/input'))\n",
    "        search.send_keys('typecoba')\n",
    "        time.sleep(2)\n",
    "        search.send_keys(Keys.ENTER)\n",
    "        time.sleep(2)\n",
    "        search.send_keys(Keys.ENTER)\n",
    "        \n",
    "            \n",
    "        \n",
    "            "
   ]
  },
  {
   "cell_type": "raw",
   "metadata": {
    "collapsed": false
   },
   "source": [
    "crawler = instagram()"
   ]
  },
  {
   "cell_type": "raw",
   "metadata": {
    "collapsed": true
   },
   "source": [
    "crawler.login()"
   ]
  },
  {
   "cell_type": "raw",
   "metadata": {
    "collapsed": false
   },
   "source": [
    "crawler.search()"
   ]
  },
  {
   "cell_type": "code",
   "execution_count": 19,
   "metadata": {
    "collapsed": false
   },
   "outputs": [
    {
     "data": {
      "text/plain": [
       "\"\\nprocess\\nlist[] 데이터 저장\\nstart_target 지정\\nstart\\npush dict in list -> follower_list / following_list \\n    자료형식... list[{id:'',follower:['',''],following:['',''],regdate:''}, {...}]\\n    following의 역방향을 미리 넣는다면 기하급수적으로 많아짐.. 개뻘짓이 될 가능성\\n    follower만 고려한다면? 이건 오히려 오류의 가능성이....\\n    개뻘짓으로 가는것은 마찬가지가 되는가?\\n    둘다 추가한다면 바깥고리가 1:1000정도로 잡힐수도\\n\\n그다음 id 판단을 어떻게 돌리는가?\\n    데이터 저장시 id list에 추가함\\n    data는 dict id는 list로 관리\\n    id list는 출발시 초기화, start지점을 어떻게 판단? 종료시 마킹?\\n\""
      ]
     },
     "execution_count": 19,
     "metadata": {},
     "output_type": "execute_result"
    }
   ],
   "source": [
    "'''\n",
    "process\n",
    "list[] 데이터 저장\n",
    "start_target 지정\n",
    "start\n",
    "push dict in list -> follower_list / following_list \n",
    "    자료형식... list[{id:'',follower:['',''],following:['',''],regdate:''}, {...}]\n",
    "    following의 역방향을 미리 넣는다면 기하급수적으로 많아짐.. 개뻘짓이 될 가능성\n",
    "    follower만 고려한다면? 이건 오히려 오류의 가능성이....\n",
    "    개뻘짓으로 가는것은 마찬가지가 되는가?\n",
    "    둘다 추가한다면 바깥고리가 1:1000정도로 잡힐수도\n",
    "    \n",
    "    *collections를 이용하면 순서가 보장되는 dict를 구현할 수 있다. \n",
    "     https://godoftyping.wordpress.com/2015/05/13/python-%EC%88%9C%EC%84%9C%EB%A5%BC-%EA%B8%B0%EC%96%B5%ED%95%98%EB%8A%94-%EC%82%AC%EC%A0%84%ED%98%95-ordereddict/\n",
    "     \n",
    "    *profile등등의 정보도 가지고와야 하는구나... \n",
    "\n",
    "그다음 id 판단을 어떻게 돌리는가?\n",
    "    데이터 저장시 id list에 추가함\n",
    "    data는 dict id는 list로 관리\n",
    "    id list는 출발시 초기화, start지점을 어떻게 판단? 종료시 마킹?\n",
    "    \n",
    "    중복에 대한 처리는?\n",
    "    -dict에서 id 중복확인\n",
    "    -regdate에 따라 update or continue\n",
    "    \n",
    "\n",
    "종료시점은? \n",
    "    시간, 갯수 정도의 조건? \n",
    "    종료시 흐름을 정의할 수 있는가? 그럼 list형태로 저장되어있어야 하는데...\n",
    "'''    "
   ]
  },
  {
   "cell_type": "markdown",
   "metadata": {},
   "source": [
    "#### 전역함수로 test를 끝내고 class를 작성해야 번거롭지 않음.."
   ]
  },
  {
   "cell_type": "code",
   "execution_count": 40,
   "metadata": {
    "collapsed": false
   },
   "outputs": [],
   "source": [
    "drv = webdriver.Chrome('./chromedriver_win32/chromedriver')\n",
    "drv.get('https://www.instagram.com/')      \n",
    "time.sleep(3)"
   ]
  },
  {
   "cell_type": "code",
   "execution_count": 41,
   "metadata": {
    "collapsed": true
   },
   "outputs": [],
   "source": [
    "# login page\n",
    "login_btn = WebDriverWait(driver=drv, timeout=10).until(lambda drv: drv.find_element_by_xpath(\"//a[contains(@href,'/login')]\"))\n",
    "login_btn.click()\n",
    "time.sleep(3)\n",
    "\n",
    "# username\n",
    "login_user = WebDriverWait(driver=drv, timeout=10).until(lambda drv: drv.find_element_by_xpath(\"//input[@name='username']\"))\n",
    "clear(login_user)\n",
    "login_user.send_keys(username)\n",
    "time.sleep(1)\n",
    "\n",
    "# password\n",
    "login_pass = WebDriverWait(driver=drv, timeout=10).until(lambda drv: drv.find_element_by_xpath(\"//input[@name='password']\"))\n",
    "clear(login_pass)\n",
    "login_pass.send_keys(password)\n",
    "time.sleep(1)\n",
    "\n",
    "# submit\n",
    "login_submit = WebDriverWait(driver=drv, timeout=10).until(lambda drv: drv.find_element_by_xpath(\"//button[@type='submit']\"))\n",
    "login_submit.click()\n",
    "\n",
    "time.sleep(5)"
   ]
  },
  {
   "cell_type": "code",
   "execution_count": 73,
   "metadata": {
    "collapsed": true
   },
   "outputs": [],
   "source": [
    "# search\n",
    "search =  WebDriverWait(driver=drv, timeout=10).until(lambda drv: drv.find_element_by_xpath('//*[@id=\"react-root\"]/section/nav/div[2]/div/div/div[2]/input'))\n",
    "clear(search)\n",
    "search.send_keys('nike')\n",
    "time.sleep(2)\n",
    "search.send_keys(Keys.ENTER)\n",
    "time.sleep(2)\n",
    "search.send_keys(Keys.ENTER)"
   ]
  },
  {
   "cell_type": "code",
   "execution_count": 101,
   "metadata": {
    "collapsed": false
   },
   "outputs": [
    {
     "name": "stdout",
     "output_type": "stream",
     "text": [
      "follower_cnt 23651698\n"
     ]
    }
   ],
   "source": [
    "# test\n",
    "followers_all_cnt = int(drv.find_element_by_xpath('//*[@id=\"react-root\"]/section/main/div/ul/li[2]/a/span').get_attribute('title').replace(',',''))\n",
    "print ('follower_cnt', followers_all_cnt)"
   ]
  },
  {
   "cell_type": "code",
   "execution_count": 106,
   "metadata": {
    "collapsed": false
   },
   "outputs": [],
   "source": [
    "# follower list 팝업\n",
    "\n",
    "# followers_close_btn = drv.find_element_by_xpath('/html/body/div[3]/div/div[1]/div/div[2]/button/span[@area-label=\"닫기\"]')\n",
    "# followers_close_btn.click()\n",
    "followers_btn = drv.find_element_by_xpath('//a[contains(@href,\"followers\")]')\n",
    "followers_btn.click()\n",
    "time.sleep(2)"
   ]
  },
  {
   "cell_type": "code",
   "execution_count": 107,
   "metadata": {
    "collapsed": false
   },
   "outputs": [
    {
     "name": "stdout",
     "output_type": "stream",
     "text": [
      "1\n"
     ]
    }
   ],
   "source": [
    "# follower list 갯수 확인\n",
    "followers_list = drv.find_element_by_css_selector('div[role=\"dialog\"] ul')\n",
    "followers_list_cnt = len(followers_list.find_elements_by_css_selector('li'))\n",
    "print(followers_list_cnt)"
   ]
  },
  {
   "cell_type": "code",
   "execution_count": 108,
   "metadata": {
    "collapsed": true
   },
   "outputs": [],
   "source": [
    "# 전체보기 버튼... 어떨때 나오는거지?\n",
    "# if followers_list_cnt != followers_all_cnt :     \n",
    "followers_all_btn = drv.find_element_by_xpath('//a[contains(@href,\"followers/mutualFirst\")]')\n",
    "followers_all_btn.click()\n",
    "time.sleep(1)"
   ]
  },
  {
   "cell_type": "code",
   "execution_count": 109,
   "metadata": {
    "collapsed": false
   },
   "outputs": [
    {
     "name": "stdout",
     "output_type": "stream",
     "text": [
      "1849\n"
     ]
    }
   ],
   "source": [
    "# follower list 갯수 확인\n",
    "followers_list = drv.find_element_by_css_selector('div[role=\"dialog\"] ul')\n",
    "followers_list_cnt = len(followers_list.find_elements_by_css_selector('li'))\n",
    "print(followers_list_cnt)\n"
   ]
  },
  {
   "cell_type": "code",
   "execution_count": 96,
   "metadata": {
    "collapsed": true
   },
   "outputs": [],
   "source": [
    "# scroll test\n",
    "for i in range (2):\n",
    "    followers_list.click()\n",
    "    actionChain = webdriver.ActionChains(drv)\n",
    "    actionChain.key_down(Keys.SPACE).key_up(Keys.SPACE).perform()"
   ]
  },
  {
   "cell_type": "code",
   "execution_count": 110,
   "metadata": {
    "collapsed": true
   },
   "outputs": [],
   "source": [
    "import collections\n",
    "data_dict = collections.OrderedDict()"
   ]
  },
  {
   "cell_type": "code",
   "execution_count": 163,
   "metadata": {
    "collapsed": false
   },
   "outputs": [
    {
     "name": "stdout",
     "output_type": "stream",
     "text": [
      "0 0 72 72\n",
      "1 72 72 continue\n",
      "2 72 84 12\n",
      "3 84 96 12\n",
      "4 96 108 12\n",
      "5 108 120 12\n",
      "6 120 132 12\n",
      "7 132 144 12\n",
      "8 144 156 12\n",
      "9 156 168 12\n",
      "10 168 180 12\n",
      "11 180 192 12\n",
      "12 192 204 12\n",
      "13 204 216 12\n",
      "14 216 228 12\n",
      "15 228 240 12\n",
      "16 240 252 12\n",
      "17 252 276 24\n",
      "18 276 300 24\n",
      "19 300 324 24\n",
      "20 324 348 24\n",
      "21 348 372 24\n",
      "22 372 396 24\n",
      "23 396 420 24\n",
      "24 420 457 37\n",
      "25 457 457 continue\n",
      "26 457 468 11\n"
     ]
    },
    {
     "ename": "NoSuchElementException",
     "evalue": "Message: no such element: Unable to locate element: {\"method\":\"css selector\",\"selector\":\"div[role='dialog'] ul\"}\n  (Session info: chrome=74.0.3729.131)\n  (Driver info: chromedriver=2.46.628402 (536cd7adbad73a3783fdc2cab92ab2ba7ec361e1),platform=Windows NT 6.1.7601 SP1 x86_64)\n",
     "output_type": "error",
     "traceback": [
      "\u001b[0;31m---------------------------------------------------------------------------\u001b[0m",
      "\u001b[0;31mNoSuchElementException\u001b[0m                    Traceback (most recent call last)",
      "\u001b[0;32m<ipython-input-163-951364a0c8cf>\u001b[0m in \u001b[0;36m<module>\u001b[0;34m()\u001b[0m\n\u001b[1;32m     22\u001b[0m         \u001b[0mactionChain\u001b[0m\u001b[1;33m.\u001b[0m\u001b[0mkey_down\u001b[0m\u001b[1;33m(\u001b[0m\u001b[0mKeys\u001b[0m\u001b[1;33m.\u001b[0m\u001b[0mSPACE\u001b[0m\u001b[1;33m)\u001b[0m\u001b[1;33m.\u001b[0m\u001b[0mkey_up\u001b[0m\u001b[1;33m(\u001b[0m\u001b[0mKeys\u001b[0m\u001b[1;33m.\u001b[0m\u001b[0mSPACE\u001b[0m\u001b[1;33m)\u001b[0m\u001b[1;33m.\u001b[0m\u001b[0mperform\u001b[0m\u001b[1;33m(\u001b[0m\u001b[1;33m)\u001b[0m \u001b[1;31m# 스크롤 내리고\u001b[0m\u001b[1;33m\u001b[0m\u001b[0m\n\u001b[1;32m     23\u001b[0m         \u001b[0mtime\u001b[0m\u001b[1;33m.\u001b[0m\u001b[0msleep\u001b[0m\u001b[1;33m(\u001b[0m\u001b[1;36m1\u001b[0m\u001b[1;33m)\u001b[0m\u001b[1;33m\u001b[0m\u001b[0m\n\u001b[0;32m---> 24\u001b[0;31m         \u001b[0mfollowers_block\u001b[0m \u001b[1;33m=\u001b[0m \u001b[0mdrv\u001b[0m\u001b[1;33m.\u001b[0m\u001b[0mfind_element_by_css_selector\u001b[0m\u001b[1;33m(\u001b[0m\u001b[1;34m'div[role=\\'dialog\\'] ul'\u001b[0m\u001b[1;33m)\u001b[0m \u001b[1;31m# 리스트\u001b[0m\u001b[1;33m\u001b[0m\u001b[0m\n\u001b[0m\u001b[1;32m     25\u001b[0m         \u001b[0mfollowers_list\u001b[0m \u001b[1;33m=\u001b[0m \u001b[0mfollowers_block\u001b[0m\u001b[1;33m.\u001b[0m\u001b[0mfind_elements_by_css_selector\u001b[0m\u001b[1;33m(\u001b[0m\u001b[1;34m'li'\u001b[0m\u001b[1;33m)\u001b[0m\u001b[1;33m\u001b[0m\u001b[0m\n\u001b[1;32m     26\u001b[0m         \u001b[0mcnt_current\u001b[0m \u001b[1;33m=\u001b[0m \u001b[0mlen\u001b[0m\u001b[1;33m(\u001b[0m\u001b[0mfollowers_list\u001b[0m\u001b[1;33m)\u001b[0m \u001b[1;31m# 리스트 갯수\u001b[0m\u001b[1;33m\u001b[0m\u001b[0m\n",
      "\u001b[0;32mC:\\Users\\mediance_ssh\\Anaconda3\\lib\\site-packages\\selenium\\webdriver\\remote\\webdriver.py\u001b[0m in \u001b[0;36mfind_element_by_css_selector\u001b[0;34m(self, css_selector)\u001b[0m\n\u001b[1;32m    587\u001b[0m             \u001b[0melement\u001b[0m \u001b[1;33m=\u001b[0m \u001b[0mdriver\u001b[0m\u001b[1;33m.\u001b[0m\u001b[0mfind_element_by_css_selector\u001b[0m\u001b[1;33m(\u001b[0m\u001b[1;34m'#foo'\u001b[0m\u001b[1;33m)\u001b[0m\u001b[1;33m\u001b[0m\u001b[0m\n\u001b[1;32m    588\u001b[0m         \"\"\"\n\u001b[0;32m--> 589\u001b[0;31m         \u001b[1;32mreturn\u001b[0m \u001b[0mself\u001b[0m\u001b[1;33m.\u001b[0m\u001b[0mfind_element\u001b[0m\u001b[1;33m(\u001b[0m\u001b[0mby\u001b[0m\u001b[1;33m=\u001b[0m\u001b[0mBy\u001b[0m\u001b[1;33m.\u001b[0m\u001b[0mCSS_SELECTOR\u001b[0m\u001b[1;33m,\u001b[0m \u001b[0mvalue\u001b[0m\u001b[1;33m=\u001b[0m\u001b[0mcss_selector\u001b[0m\u001b[1;33m)\u001b[0m\u001b[1;33m\u001b[0m\u001b[0m\n\u001b[0m\u001b[1;32m    590\u001b[0m \u001b[1;33m\u001b[0m\u001b[0m\n\u001b[1;32m    591\u001b[0m     \u001b[1;32mdef\u001b[0m \u001b[0mfind_elements_by_css_selector\u001b[0m\u001b[1;33m(\u001b[0m\u001b[0mself\u001b[0m\u001b[1;33m,\u001b[0m \u001b[0mcss_selector\u001b[0m\u001b[1;33m)\u001b[0m\u001b[1;33m:\u001b[0m\u001b[1;33m\u001b[0m\u001b[0m\n",
      "\u001b[0;32mC:\\Users\\mediance_ssh\\Anaconda3\\lib\\site-packages\\selenium\\webdriver\\remote\\webdriver.py\u001b[0m in \u001b[0;36mfind_element\u001b[0;34m(self, by, value)\u001b[0m\n\u001b[1;32m    953\u001b[0m         return self.execute(Command.FIND_ELEMENT, {\n\u001b[1;32m    954\u001b[0m             \u001b[1;34m'using'\u001b[0m\u001b[1;33m:\u001b[0m \u001b[0mby\u001b[0m\u001b[1;33m,\u001b[0m\u001b[1;33m\u001b[0m\u001b[0m\n\u001b[0;32m--> 955\u001b[0;31m             'value': value})['value']\n\u001b[0m\u001b[1;32m    956\u001b[0m \u001b[1;33m\u001b[0m\u001b[0m\n\u001b[1;32m    957\u001b[0m     \u001b[1;32mdef\u001b[0m \u001b[0mfind_elements\u001b[0m\u001b[1;33m(\u001b[0m\u001b[0mself\u001b[0m\u001b[1;33m,\u001b[0m \u001b[0mby\u001b[0m\u001b[1;33m=\u001b[0m\u001b[0mBy\u001b[0m\u001b[1;33m.\u001b[0m\u001b[0mID\u001b[0m\u001b[1;33m,\u001b[0m \u001b[0mvalue\u001b[0m\u001b[1;33m=\u001b[0m\u001b[1;32mNone\u001b[0m\u001b[1;33m)\u001b[0m\u001b[1;33m:\u001b[0m\u001b[1;33m\u001b[0m\u001b[0m\n",
      "\u001b[0;32mC:\\Users\\mediance_ssh\\Anaconda3\\lib\\site-packages\\selenium\\webdriver\\remote\\webdriver.py\u001b[0m in \u001b[0;36mexecute\u001b[0;34m(self, driver_command, params)\u001b[0m\n\u001b[1;32m    310\u001b[0m         \u001b[0mresponse\u001b[0m \u001b[1;33m=\u001b[0m \u001b[0mself\u001b[0m\u001b[1;33m.\u001b[0m\u001b[0mcommand_executor\u001b[0m\u001b[1;33m.\u001b[0m\u001b[0mexecute\u001b[0m\u001b[1;33m(\u001b[0m\u001b[0mdriver_command\u001b[0m\u001b[1;33m,\u001b[0m \u001b[0mparams\u001b[0m\u001b[1;33m)\u001b[0m\u001b[1;33m\u001b[0m\u001b[0m\n\u001b[1;32m    311\u001b[0m         \u001b[1;32mif\u001b[0m \u001b[0mresponse\u001b[0m\u001b[1;33m:\u001b[0m\u001b[1;33m\u001b[0m\u001b[0m\n\u001b[0;32m--> 312\u001b[0;31m             \u001b[0mself\u001b[0m\u001b[1;33m.\u001b[0m\u001b[0merror_handler\u001b[0m\u001b[1;33m.\u001b[0m\u001b[0mcheck_response\u001b[0m\u001b[1;33m(\u001b[0m\u001b[0mresponse\u001b[0m\u001b[1;33m)\u001b[0m\u001b[1;33m\u001b[0m\u001b[0m\n\u001b[0m\u001b[1;32m    313\u001b[0m             response['value'] = self._unwrap_value(\n\u001b[1;32m    314\u001b[0m                 response.get('value', None))\n",
      "\u001b[0;32mC:\\Users\\mediance_ssh\\Anaconda3\\lib\\site-packages\\selenium\\webdriver\\remote\\errorhandler.py\u001b[0m in \u001b[0;36mcheck_response\u001b[0;34m(self, response)\u001b[0m\n\u001b[1;32m    240\u001b[0m                 \u001b[0malert_text\u001b[0m \u001b[1;33m=\u001b[0m \u001b[0mvalue\u001b[0m\u001b[1;33m[\u001b[0m\u001b[1;34m'alert'\u001b[0m\u001b[1;33m]\u001b[0m\u001b[1;33m.\u001b[0m\u001b[0mget\u001b[0m\u001b[1;33m(\u001b[0m\u001b[1;34m'text'\u001b[0m\u001b[1;33m)\u001b[0m\u001b[1;33m\u001b[0m\u001b[0m\n\u001b[1;32m    241\u001b[0m             \u001b[1;32mraise\u001b[0m \u001b[0mexception_class\u001b[0m\u001b[1;33m(\u001b[0m\u001b[0mmessage\u001b[0m\u001b[1;33m,\u001b[0m \u001b[0mscreen\u001b[0m\u001b[1;33m,\u001b[0m \u001b[0mstacktrace\u001b[0m\u001b[1;33m,\u001b[0m \u001b[0malert_text\u001b[0m\u001b[1;33m)\u001b[0m\u001b[1;33m\u001b[0m\u001b[0m\n\u001b[0;32m--> 242\u001b[0;31m         \u001b[1;32mraise\u001b[0m \u001b[0mexception_class\u001b[0m\u001b[1;33m(\u001b[0m\u001b[0mmessage\u001b[0m\u001b[1;33m,\u001b[0m \u001b[0mscreen\u001b[0m\u001b[1;33m,\u001b[0m \u001b[0mstacktrace\u001b[0m\u001b[1;33m)\u001b[0m\u001b[1;33m\u001b[0m\u001b[0m\n\u001b[0m\u001b[1;32m    243\u001b[0m \u001b[1;33m\u001b[0m\u001b[0m\n\u001b[1;32m    244\u001b[0m     \u001b[1;32mdef\u001b[0m \u001b[0m_value_or_default\u001b[0m\u001b[1;33m(\u001b[0m\u001b[0mself\u001b[0m\u001b[1;33m,\u001b[0m \u001b[0mobj\u001b[0m\u001b[1;33m,\u001b[0m \u001b[0mkey\u001b[0m\u001b[1;33m,\u001b[0m \u001b[0mdefault\u001b[0m\u001b[1;33m)\u001b[0m\u001b[1;33m:\u001b[0m\u001b[1;33m\u001b[0m\u001b[0m\n",
      "\u001b[0;31mNoSuchElementException\u001b[0m: Message: no such element: Unable to locate element: {\"method\":\"css selector\",\"selector\":\"div[role='dialog'] ul\"}\n  (Session info: chrome=74.0.3729.131)\n  (Driver info: chromedriver=2.46.628402 (536cd7adbad73a3783fdc2cab92ab2ba7ec361e1),platform=Windows NT 6.1.7601 SP1 x86_64)\n"
     ]
    }
   ],
   "source": [
    "# Scroll down the followers pop-up window till all the followers have been loaded\n",
    "# 스크롤에 리미트 없으면.... 메모리.. 등 곤란...\n",
    "# 스크롤 한번에 처리 한번씩 해야함... li 요소를 삭제하는게 메모리에 도움이 될까?\n",
    "# while (followers_list_cnt < followers_all_cnt - 1):\n",
    "\n",
    "followers_block = drv.find_element_by_css_selector('div[role=\\'dialog\\'] ul') # 리스트\n",
    "followers_block.click()\n",
    "actionChain = webdriver.ActionChains(drv)\n",
    "\n",
    "cnt_prev=0\n",
    "cnt_current=0\n",
    "\n",
    "for i in range(40):    \n",
    "    if i == 0 : # 처음은 입력\n",
    "        followers_block = WebDriverWait(driver=drv, timeout=10).until(lambda drv: drv.find_element_by_css_selector('div[role=\\'dialog\\'] ul')) # 리스트\n",
    "        followers_list = followers_block.find_elements_by_css_selector('li')\n",
    "        cnt_prev = len(followers_list)\n",
    "        print(i, 0, cnt_prev, cnt_prev)\n",
    "        time.sleep(1)    \n",
    "        \n",
    "    else : # 두번째부터는 진행\n",
    "        actionChain.key_down(Keys.SPACE).key_up(Keys.SPACE).perform() # 스크롤 내리고                        \n",
    "        time.sleep(1)    \n",
    "        followers_block = WebDriverWait(driver=drv, timeout=10).until(lambda drv: drv.find_element_by_css_selector('div[role=\\'dialog\\'] ul')) # 리스트\n",
    "        followers_list = WebDriverWait(driver=drv, timeout=10).until(lambda drv: followers_block.find_elements_by_css_selector('li'))\n",
    "        cnt_current = len(followers_list) # 리스트 갯수\n",
    "            \n",
    "        if cnt_current == cnt_prev : # 추가되지 않음\n",
    "            print(i, cnt_prev, cnt_current, 'continue')\n",
    "            continue\n",
    "        else :\n",
    "            # 입력할 list\n",
    "            added_list = followers_list[cnt_prev:]            \n",
    "            print(i, cnt_prev, cnt_current, len(added_list))\n",
    "            cnt_prev = cnt_current"
   ]
  },
  {
   "cell_type": "code",
   "execution_count": null,
   "metadata": {
    "collapsed": false
   },
   "outputs": [],
   "source": [
    "# followers 이게 로딩이 다 되는것도 아님...\n",
    "# 그리고 스크롤이 누적으로 적용되는것 같은데?"
   ]
  },
  {
   "cell_type": "code",
   "execution_count": 22,
   "metadata": {
    "collapsed": true
   },
   "outputs": [],
   "source": [
    "# Extract all the user ids of all the followers in a list\n",
    "all_followers = browser.find_element_by_class_name('isgrP')\n",
    "followers = []\n",
    "for i in all_followers.find_elements_by_css_selector('li'):\n",
    "     followers.append(i.text.split()[0]) "
   ]
  },
  {
   "cell_type": "code",
   "execution_count": 27,
   "metadata": {
    "collapsed": false
   },
   "outputs": [
    {
     "name": "stdout",
     "output_type": "stream",
     "text": [
      "The followers for this user are:\n",
      " ['high__harbor', 'fallin_dild', 'osoyoung0', 'sleepyo', 'bilbolove', 'human_dynamics', 'jeong_wonkyo', 'everything_of_bird', 'comadl', 'cosmosnrose', 'dagadada', 'sori___sound', 'clubbbang', 's0namu', 'baknabi', 'mjmjmjs1', 'heiin.son', 'may70041', 'bieldesign2005', 'happyran17', 'delimuz', 'namstarsnow', 'penguinmacaron', 'kwakseho', 'designyoso', 'seobono', 'jinwon8263', 'koni.kang', 'usun_', 'hydle', 'woosikk', 'kwonsuho', 'keumryong', 'luckyyeom', '6chang', 'at_st_001', 'draw_drawing34', 'revecreature', 'gr8monkey', 'flydaeng', 'jongbin_kim', 'digitallydoomed', 'tree_n_tree', 'doing_no_thing', 'booreemer', 'geun_hyeong_park', 'biel_lee']\n"
     ]
    }
   ],
   "source": [
    "# I commented this line of code to keep the privacy of my followers. You can uncomment this line of code.\n",
    "print ('The followers for this user are:\\n',followers)"
   ]
  },
  {
   "cell_type": "code",
   "execution_count": 25,
   "metadata": {
    "collapsed": false
   },
   "outputs": [],
   "source": [
    "# Close the followers pop-up box\n",
    "browser.find_element_by_xpath('/html/body/div[3]/div/div[1]/div/div[2]/button').click()"
   ]
  },
  {
   "cell_type": "markdown",
   "metadata": {},
   "source": [
    "#### Get the total number of followers for each of your follower"
   ]
  },
  {
   "cell_type": "code",
   "execution_count": 26,
   "metadata": {
    "collapsed": false
   },
   "outputs": [
    {
     "ename": "StaleElementReferenceException",
     "evalue": "Message: stale element reference: element is not attached to the page document\n  (Session info: chrome=74.0.3729.131)\n  (Driver info: chromedriver=2.46.628402 (536cd7adbad73a3783fdc2cab92ab2ba7ec361e1),platform=Windows NT 6.1.7601 SP1 x86_64)\n",
     "output_type": "error",
     "traceback": [
      "\u001b[0;31m---------------------------------------------------------------------------\u001b[0m",
      "\u001b[0;31mStaleElementReferenceException\u001b[0m            Traceback (most recent call last)",
      "\u001b[0;32m<ipython-input-26-e33742ed9613>\u001b[0m in \u001b[0;36m<module>\u001b[0;34m()\u001b[0m\n\u001b[1;32m      5\u001b[0m     \u001b[0msearch\u001b[0m\u001b[1;33m.\u001b[0m\u001b[0msend_keys\u001b[0m\u001b[1;33m(\u001b[0m\u001b[0meach_follower\u001b[0m\u001b[1;33m)\u001b[0m\u001b[1;33m\u001b[0m\u001b[0m\n\u001b[1;32m      6\u001b[0m     \u001b[0mtime\u001b[0m\u001b[1;33m.\u001b[0m\u001b[0msleep\u001b[0m\u001b[1;33m(\u001b[0m\u001b[1;36m3\u001b[0m\u001b[1;33m)\u001b[0m\u001b[1;33m\u001b[0m\u001b[0m\n\u001b[0;32m----> 7\u001b[0;31m     \u001b[0msearch\u001b[0m\u001b[1;33m.\u001b[0m\u001b[0msend_keys\u001b[0m\u001b[1;33m(\u001b[0m\u001b[0mKeys\u001b[0m\u001b[1;33m.\u001b[0m\u001b[0mENTER\u001b[0m\u001b[1;33m)\u001b[0m\u001b[1;33m\u001b[0m\u001b[0m\n\u001b[0m\u001b[1;32m      8\u001b[0m     \u001b[0mtime\u001b[0m\u001b[1;33m.\u001b[0m\u001b[0msleep\u001b[0m\u001b[1;33m(\u001b[0m\u001b[1;36m3\u001b[0m\u001b[1;33m)\u001b[0m\u001b[1;33m\u001b[0m\u001b[0m\n\u001b[1;32m      9\u001b[0m     \u001b[0msearch\u001b[0m\u001b[1;33m.\u001b[0m\u001b[0msend_keys\u001b[0m\u001b[1;33m(\u001b[0m\u001b[0mKeys\u001b[0m\u001b[1;33m.\u001b[0m\u001b[0mENTER\u001b[0m\u001b[1;33m)\u001b[0m\u001b[1;33m\u001b[0m\u001b[0m\n",
      "\u001b[0;32mC:\\Users\\mediance_ssh\\Anaconda3\\lib\\site-packages\\selenium\\webdriver\\remote\\webelement.py\u001b[0m in \u001b[0;36msend_keys\u001b[0;34m(self, *value)\u001b[0m\n\u001b[1;32m    477\u001b[0m         self._execute(Command.SEND_KEYS_TO_ELEMENT,\n\u001b[1;32m    478\u001b[0m                       {'text': \"\".join(keys_to_typing(value)),\n\u001b[0;32m--> 479\u001b[0;31m                        'value': keys_to_typing(value)})\n\u001b[0m\u001b[1;32m    480\u001b[0m \u001b[1;33m\u001b[0m\u001b[0m\n\u001b[1;32m    481\u001b[0m     \u001b[1;31m# RenderedWebElement Items\u001b[0m\u001b[1;33m\u001b[0m\u001b[1;33m\u001b[0m\u001b[0m\n",
      "\u001b[0;32mC:\\Users\\mediance_ssh\\Anaconda3\\lib\\site-packages\\selenium\\webdriver\\remote\\webelement.py\u001b[0m in \u001b[0;36m_execute\u001b[0;34m(self, command, params)\u001b[0m\n\u001b[1;32m    626\u001b[0m             \u001b[0mparams\u001b[0m \u001b[1;33m=\u001b[0m \u001b[1;33m{\u001b[0m\u001b[1;33m}\u001b[0m\u001b[1;33m\u001b[0m\u001b[0m\n\u001b[1;32m    627\u001b[0m         \u001b[0mparams\u001b[0m\u001b[1;33m[\u001b[0m\u001b[1;34m'id'\u001b[0m\u001b[1;33m]\u001b[0m \u001b[1;33m=\u001b[0m \u001b[0mself\u001b[0m\u001b[1;33m.\u001b[0m\u001b[0m_id\u001b[0m\u001b[1;33m\u001b[0m\u001b[0m\n\u001b[0;32m--> 628\u001b[0;31m         \u001b[1;32mreturn\u001b[0m \u001b[0mself\u001b[0m\u001b[1;33m.\u001b[0m\u001b[0m_parent\u001b[0m\u001b[1;33m.\u001b[0m\u001b[0mexecute\u001b[0m\u001b[1;33m(\u001b[0m\u001b[0mcommand\u001b[0m\u001b[1;33m,\u001b[0m \u001b[0mparams\u001b[0m\u001b[1;33m)\u001b[0m\u001b[1;33m\u001b[0m\u001b[0m\n\u001b[0m\u001b[1;32m    629\u001b[0m \u001b[1;33m\u001b[0m\u001b[0m\n\u001b[1;32m    630\u001b[0m     \u001b[1;32mdef\u001b[0m \u001b[0mfind_element\u001b[0m\u001b[1;33m(\u001b[0m\u001b[0mself\u001b[0m\u001b[1;33m,\u001b[0m \u001b[0mby\u001b[0m\u001b[1;33m=\u001b[0m\u001b[0mBy\u001b[0m\u001b[1;33m.\u001b[0m\u001b[0mID\u001b[0m\u001b[1;33m,\u001b[0m \u001b[0mvalue\u001b[0m\u001b[1;33m=\u001b[0m\u001b[1;32mNone\u001b[0m\u001b[1;33m)\u001b[0m\u001b[1;33m:\u001b[0m\u001b[1;33m\u001b[0m\u001b[0m\n",
      "\u001b[0;32mC:\\Users\\mediance_ssh\\Anaconda3\\lib\\site-packages\\selenium\\webdriver\\remote\\webdriver.py\u001b[0m in \u001b[0;36mexecute\u001b[0;34m(self, driver_command, params)\u001b[0m\n\u001b[1;32m    310\u001b[0m         \u001b[0mresponse\u001b[0m \u001b[1;33m=\u001b[0m \u001b[0mself\u001b[0m\u001b[1;33m.\u001b[0m\u001b[0mcommand_executor\u001b[0m\u001b[1;33m.\u001b[0m\u001b[0mexecute\u001b[0m\u001b[1;33m(\u001b[0m\u001b[0mdriver_command\u001b[0m\u001b[1;33m,\u001b[0m \u001b[0mparams\u001b[0m\u001b[1;33m)\u001b[0m\u001b[1;33m\u001b[0m\u001b[0m\n\u001b[1;32m    311\u001b[0m         \u001b[1;32mif\u001b[0m \u001b[0mresponse\u001b[0m\u001b[1;33m:\u001b[0m\u001b[1;33m\u001b[0m\u001b[0m\n\u001b[0;32m--> 312\u001b[0;31m             \u001b[0mself\u001b[0m\u001b[1;33m.\u001b[0m\u001b[0merror_handler\u001b[0m\u001b[1;33m.\u001b[0m\u001b[0mcheck_response\u001b[0m\u001b[1;33m(\u001b[0m\u001b[0mresponse\u001b[0m\u001b[1;33m)\u001b[0m\u001b[1;33m\u001b[0m\u001b[0m\n\u001b[0m\u001b[1;32m    313\u001b[0m             response['value'] = self._unwrap_value(\n\u001b[1;32m    314\u001b[0m                 response.get('value', None))\n",
      "\u001b[0;32mC:\\Users\\mediance_ssh\\Anaconda3\\lib\\site-packages\\selenium\\webdriver\\remote\\errorhandler.py\u001b[0m in \u001b[0;36mcheck_response\u001b[0;34m(self, response)\u001b[0m\n\u001b[1;32m    240\u001b[0m                 \u001b[0malert_text\u001b[0m \u001b[1;33m=\u001b[0m \u001b[0mvalue\u001b[0m\u001b[1;33m[\u001b[0m\u001b[1;34m'alert'\u001b[0m\u001b[1;33m]\u001b[0m\u001b[1;33m.\u001b[0m\u001b[0mget\u001b[0m\u001b[1;33m(\u001b[0m\u001b[1;34m'text'\u001b[0m\u001b[1;33m)\u001b[0m\u001b[1;33m\u001b[0m\u001b[0m\n\u001b[1;32m    241\u001b[0m             \u001b[1;32mraise\u001b[0m \u001b[0mexception_class\u001b[0m\u001b[1;33m(\u001b[0m\u001b[0mmessage\u001b[0m\u001b[1;33m,\u001b[0m \u001b[0mscreen\u001b[0m\u001b[1;33m,\u001b[0m \u001b[0mstacktrace\u001b[0m\u001b[1;33m,\u001b[0m \u001b[0malert_text\u001b[0m\u001b[1;33m)\u001b[0m\u001b[1;33m\u001b[0m\u001b[0m\n\u001b[0;32m--> 242\u001b[0;31m         \u001b[1;32mraise\u001b[0m \u001b[0mexception_class\u001b[0m\u001b[1;33m(\u001b[0m\u001b[0mmessage\u001b[0m\u001b[1;33m,\u001b[0m \u001b[0mscreen\u001b[0m\u001b[1;33m,\u001b[0m \u001b[0mstacktrace\u001b[0m\u001b[1;33m)\u001b[0m\u001b[1;33m\u001b[0m\u001b[0m\n\u001b[0m\u001b[1;32m    243\u001b[0m \u001b[1;33m\u001b[0m\u001b[0m\n\u001b[1;32m    244\u001b[0m     \u001b[1;32mdef\u001b[0m \u001b[0m_value_or_default\u001b[0m\u001b[1;33m(\u001b[0m\u001b[0mself\u001b[0m\u001b[1;33m,\u001b[0m \u001b[0mobj\u001b[0m\u001b[1;33m,\u001b[0m \u001b[0mkey\u001b[0m\u001b[1;33m,\u001b[0m \u001b[0mdefault\u001b[0m\u001b[1;33m)\u001b[0m\u001b[1;33m:\u001b[0m\u001b[1;33m\u001b[0m\u001b[0m\n",
      "\u001b[0;31mStaleElementReferenceException\u001b[0m: Message: stale element reference: element is not attached to the page document\n  (Session info: chrome=74.0.3729.131)\n  (Driver info: chromedriver=2.46.628402 (536cd7adbad73a3783fdc2cab92ab2ba7ec361e1),platform=Windows NT 6.1.7601 SP1 x86_64)\n"
     ]
    }
   ],
   "source": [
    "followers_info = pd.DataFrame(columns = ['user_id','users_followers_count'])\n",
    "for each_follower in followers:\n",
    "    search =  browser.find_element_by_xpath('//*[@id=\"react-root\"]/section/nav/div[2]/div/div/div[2]/input')\n",
    "    # Enter the search query\n",
    "    search.send_keys(each_follower)\n",
    "    time.sleep(3)\n",
    "    search.send_keys(Keys.ENTER)\n",
    "    time.sleep(3)\n",
    "    search.send_keys(Keys.ENTER)\n",
    "    #search.send_keys(Keys.CONTROL + \"a\")\n",
    "    search.send_keys(Keys.DELETE)\n",
    "    followers_count_user = int(browser.find_element_by_xpath(\"//span[@id='react-root']//span[@title]\").text)\n",
    "    followers_info.loc[len(followers_info)] = [each_follower,followers_count_user]\n",
    "    "
   ]
  },
  {
   "cell_type": "code",
   "execution_count": null,
   "metadata": {
    "collapsed": true
   },
   "outputs": [],
   "source": []
  }
 ],
 "metadata": {
  "anaconda-cloud": {},
  "kernelspec": {
   "display_name": "Python [default]",
   "language": "python",
   "name": "python3"
  },
  "language_info": {
   "codemirror_mode": {
    "name": "ipython",
    "version": 3
   },
   "file_extension": ".py",
   "mimetype": "text/x-python",
   "name": "python",
   "nbconvert_exporter": "python",
   "pygments_lexer": "ipython3",
   "version": "3.5.2"
  }
 },
 "nbformat": 4,
 "nbformat_minor": 2
}
