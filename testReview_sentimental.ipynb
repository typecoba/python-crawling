{
 "cells": [
  {
   "cell_type": "code",
   "execution_count": 1,
   "metadata": {},
   "outputs": [
    {
     "data": {
      "text/plain": [
       "'\\nmongodb 에서 review 데이터 load\\n명사분리, count\\nKOSAC 감성사전, sentimental \\n'"
      ]
     },
     "execution_count": 1,
     "metadata": {},
     "output_type": "execute_result"
    }
   ],
   "source": [
    "'''\n",
    "mongodb 에서 review 데이터 load\n",
    "명사분리, count\n",
    "KOSAC 감성사전, sentimental\n",
    "'''"
   ]
  },
  {
   "cell_type": "code",
   "execution_count": 1,
   "metadata": {},
   "outputs": [],
   "source": [
    "import pymongo\n",
    "import json"
   ]
  },
  {
   "cell_type": "code",
   "execution_count": 2,
   "metadata": {},
   "outputs": [],
   "source": [
    "connection = pymongo.MongoClient('localhost', 27017)\n",
    "db = connection.test\n",
    "collection = db.test_collection2"
   ]
  },
  {
   "cell_type": "code",
   "execution_count": 41,
   "metadata": {},
   "outputs": [],
   "source": [
    "data = list(collection.find({},{'_id':False, 'comments':True, 'score':True}))"
   ]
  },
  {
   "cell_type": "code",
   "execution_count": 42,
   "metadata": {},
   "outputs": [
    {
     "name": "stdout",
     "output_type": "stream",
     "text": [
      "[{'comments': '두말하면 잔소리지요\\n세번째구매해서이미 먹고있는중입니다\\n설선물이벤트도 하던데 쟁여놀까싶네요', 'score': 5}, {'comments': '은근 맛이 강해서 놀랐음 복숭아맛좋아해서 샀는데 레몬 사야겟어요 달다가 새콤하니 이상하네요 포카리보다 맛강해야', 'score': 4}, {'comments': '먹어도 효과는 없어요', 'score': 3}, {'comments': '물만마시면 화장실바로가는데\\n링티는 몸에 쏵흡수되는 느낌이네요', 'score': 5}, {'comments': '아들이 운동시 들어서 사달라고 해서 구매했는데 복숭아향이 은은하게 나면서 맛있고 피로회복에 도움이 된다고 하네요', 'score': 5}, {'comments': '배송빠르고 만족해요', 'score': 5}, {'comments': '복숭아맛만 먹다가 레몬맛 첨 시켰습니다\\n맛 괜찮지만 갠적으로 복숭아맛이 더 나은듯\\n배송빨랐어요', 'score': 5}, {'comments': '이온음료 보다는 확실히 좋은듯 \\n술 먹고 다음날 먹으면 최고', 'score': 5}, {'comments': '먹기 편하게 포장되어 있어요  맛있는 건 아니지만 먹기에 적당한 맛이에요', 'score': 4}, {'comments': '포카리스웨터가루먹는것보다효과가없다하네요', 'score': 2}]\n"
     ]
    }
   ],
   "source": [
    "reviews = []\n",
    "for row in data:\n",
    "    reviews.append(row)\n",
    "\n",
    "print(reviews[:10])"
   ]
  },
  {
   "cell_type": "markdown",
   "metadata": {},
   "source": [
    "### 키워드"
   ]
  },
  {
   "cell_type": "code",
   "execution_count": 30,
   "metadata": {},
   "outputs": [],
   "source": [
    "from konlpy.tag import Twitter\n",
    "from collections import Counter\n",
    "from pprint import pprint"
   ]
  },
  {
   "cell_type": "code",
   "execution_count": 5,
   "metadata": {},
   "outputs": [
    {
     "name": "stderr",
     "output_type": "stream",
     "text": [
      "C:\\Users\\mediance_ssh\\Anaconda3\\lib\\site-packages\\konlpy\\tag\\_okt.py:16: UserWarning: \"Twitter\" has changed to \"Okt\" since KoNLPy v0.4.5.\n",
      "  warn('\"Twitter\" has changed to \"Okt\" since KoNLPy v0.4.5.')\n"
     ]
    }
   ],
   "source": [
    "twitter = Twitter()"
   ]
  },
  {
   "cell_type": "code",
   "execution_count": 179,
   "metadata": {},
   "outputs": [],
   "source": [
    "def scoreNOM(score):\n",
    "    result = score\n",
    "    if score == 2 :\n",
    "        result = 1\n",
    "    elif score == 4 :\n",
    "        result = 5\n",
    "    return result"
   ]
  },
  {
   "cell_type": "code",
   "execution_count": 181,
   "metadata": {},
   "outputs": [
    {
     "name": "stdout",
     "output_type": "stream",
     "text": [
      "[('두', 'Determiner', 5), ('말', 'Noun', 5), ('하', 'Suffix', 5), ('면', 'Josa', 5), ('잔소리', 'Noun', 5), ('지', 'Josa', 5), ('요', 'Noun', 5), ('\\n', 'Foreign', 5), ('세번', 'Noun', 5), ('째', 'Suffix', 5)]\n"
     ]
    }
   ],
   "source": [
    "tokens = [pos+(scoreNOM(review['score']),) for review in reviews for pos in twitter.pos(review['comments'])]\n",
    "print(tokens[:10])"
   ]
  },
  {
   "cell_type": "code",
   "execution_count": 194,
   "metadata": {},
   "outputs": [],
   "source": [
    "def countedScore(counter,score):\n",
    "    counter = {word:freq for word, freq in counter.items() if(freq>=4) and (len(word[0])>1) and (word[1]=='Noun') and (word[2]==score)}    \n",
    "    return sorted(counter.items(), key=lambda x:x[1], reverse=True)"
   ]
  },
  {
   "cell_type": "code",
   "execution_count": 198,
   "metadata": {},
   "outputs": [
    {
     "name": "stdout",
     "output_type": "stream",
     "text": [
      "[(('효과', 'Noun', 1), 80),\n",
      " (('그냥', 'Noun', 1), 25),\n",
      " (('대장', 'Noun', 1), 18),\n",
      " (('음료', 'Noun', 1), 15),\n",
      " (('내시경', 'Noun', 1), 15),\n",
      " (('복숭아', 'Noun', 1), 14),\n",
      " (('생각', 'Noun', 1), 13),\n",
      " (('느낌', 'Noun', 1), 13),\n",
      " (('별로', 'Noun', 1), 12),\n",
      " (('피로', 'Noun', 1), 12)]\n"
     ]
    }
   ],
   "source": [
    "counter = Counter(tokens)\n",
    "# result = []\n",
    "# for word, freq in counter.items():\n",
    "#     if (freq >= 4) and (word[1])=='Noun':\n",
    "#         result.append({word:freq})\n",
    "# print(result[:10])        \n",
    "\n",
    "'''\n",
    "1글자이상, 최소4번등장, 1~5 -> 1,3,5로 표준화, 명사/형용사 \n",
    "'''\n",
    "counted1 = countedScore(counter,1)\n",
    "counted3 = countedScore(counter,3)\n",
    "counted5 = countedScore(counter,5)\n",
    "\n",
    "pprint(counted1[:10])"
   ]
  },
  {
   "cell_type": "code",
   "execution_count": 210,
   "metadata": {},
   "outputs": [],
   "source": [
    "import matplotlib as mpl\n",
    "import matplotlib.pyplot as plt"
   ]
  },
  {
   "cell_type": "code",
   "execution_count": 240,
   "metadata": {},
   "outputs": [],
   "source": [
    "mpl.rc('font',family='NanumGothic')\n",
    "# fig = plt.figure(figsize=(15,15),)"
   ]
  },
  {
   "cell_type": "code",
   "execution_count": 258,
   "metadata": {},
   "outputs": [
    {
     "data": {
      "image/png": "[encoded data removed]",
      "text/plain": [
       "<Figure size 1080x144 with 1 Axes>"
      ]
     },
     "metadata": {
      "needs_background": "light"
     },
     "output_type": "display_data"
    },
    {
     "data": {
      "image/png": "[encoded data removed]",
      "text/plain": [
       "<Figure size 1080x144 with 1 Axes>"
      ]
     },
     "metadata": {
      "needs_background": "light"
     },
     "output_type": "display_data"
    },
    {
     "data": {
      "image/png": "[encoded data removed]",
      "text/plain": [
       "<Figure size 1080x144 with 1 Axes>"
      ]
     },
     "metadata": {
      "needs_background": "light"
     },
     "output_type": "display_data"
    }
   ],
   "source": [
    "# ax1 = plt.subplot2grid((3,1), (0,0),)\n",
    "# ax2 = plt.subplot2grid((3,1), (1,0),)\n",
    "# ax3 = plt.subplot2grid((3,1), (2,0),)\n",
    "\n",
    "\n",
    "\n",
    "word_item, count_list = zip(*counted5[:20])\n",
    "words, pos, score = zip(*word_item)\n",
    "plt.figure(figsize=(15,2))\n",
    "plt.title('score5')\n",
    "plt.xticks(rotation=45)\n",
    "plt.plot(words, count_list)\n",
    "plt.show()\n",
    "\n",
    "word_item, count_list = zip(*counted3[:20])\n",
    "words, pos, score = zip(*word_item)\n",
    "plt.figure(figsize=(15,2))\n",
    "plt.title('score3')\n",
    "plt.xticks(rotation=45)\n",
    "plt.plot(words, count_list)\n",
    "plt.show()\n",
    "\n",
    "word_item, count_list = zip(*counted1[:20])\n",
    "words, pos, score = zip(*word_item)\n",
    "plt.figure(figsize=(15,2))\n",
    "plt.title('score1')\n",
    "plt.xticks(rotation=45)\n",
    "plt.plot(words, count_list)\n",
    "plt.show()\n"
   ]
  },
  {
   "cell_type": "code",
   "execution_count": null,
   "metadata": {},
   "outputs": [],
   "source": []
  },
  {
   "cell_type": "markdown",
   "metadata": {},
   "source": [
    "### 감성분석"
   ]
  },
  {
   "cell_type": "code",
   "execution_count": null,
   "metadata": {},
   "outputs": [],
   "source": []
  },
  {
   "cell_type": "code",
   "execution_count": null,
   "metadata": {},
   "outputs": [],
   "source": []
  }
 ],
 "metadata": {
  "kernelspec": {
   "display_name": "Python 3",
   "language": "python",
   "name": "python3"
  },
  "language_info": {
   "codemirror_mode": {
    "name": "ipython",
    "version": 3
   },
   "file_extension": ".py",
   "mimetype": "text/x-python",
   "name": "python",
   "nbconvert_exporter": "python",
   "pygments_lexer": "ipython3",
   "version": "3.7.6"
  }
 },
 "nbformat": 4,
 "nbformat_minor": 2
}
