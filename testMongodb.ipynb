{
 "cells": [
  {
   "cell_type": "code",
   "execution_count": 1,
   "metadata": {},
   "outputs": [],
   "source": [
    "import pymongo"
   ]
  },
  {
   "cell_type": "code",
   "execution_count": 3,
   "metadata": {},
   "outputs": [],
   "source": [
    "# db connection \n",
    "username = ''\n",
    "password = ''\n",
    "connection = pymongo.MongoClient('localhost', 27017)"
   ]
  },
  {
   "cell_type": "markdown",
   "metadata": {},
   "source": [
    "### database"
   ]
  },
  {
   "cell_type": "code",
   "execution_count": 4,
   "metadata": {},
   "outputs": [],
   "source": [
    "db = connection.test"
   ]
  },
  {
   "cell_type": "code",
   "execution_count": 5,
   "metadata": {},
   "outputs": [
    {
     "name": "stdout",
     "output_type": "stream",
     "text": [
      "Database(MongoClient(host=['localhost:27017'], document_class=dict, tz_aware=False, connect=True), 'test')\n"
     ]
    }
   ],
   "source": [
    "print(db)"
   ]
  },
  {
   "cell_type": "markdown",
   "metadata": {},
   "source": [
    "### collection"
   ]
  },
  {
   "cell_type": "code",
   "execution_count": 6,
   "metadata": {},
   "outputs": [],
   "source": [
    "collection = db.test_collection"
   ]
  },
  {
   "cell_type": "code",
   "execution_count": 7,
   "metadata": {},
   "outputs": [
    {
     "data": {
      "text/plain": [
       "Collection(Database(MongoClient(host=['localhost:27017'], document_class=dict, tz_aware=False, connect=True), 'test'), 'test_collection')"
      ]
     },
     "execution_count": 7,
     "metadata": {},
     "output_type": "execute_result"
    }
   ],
   "source": [
    "collection"
   ]
  },
  {
   "cell_type": "markdown",
   "metadata": {},
   "source": [
    "### insert"
   ]
  },
  {
   "cell_type": "code",
   "execution_count": 22,
   "metadata": {},
   "outputs": [],
   "source": [
    "post = {\"author\":\"mike2\",\"text\":\"my first blog post\", \"tags\":[\"a\",\"b\",\"c\"]}"
   ]
  },
  {
   "cell_type": "code",
   "execution_count": 20,
   "metadata": {},
   "outputs": [
    {
     "data": {
      "text/plain": [
       "<pymongo.results.InsertOneResult at 0x4ac8288>"
      ]
     },
     "execution_count": 20,
     "metadata": {},
     "output_type": "execute_result"
    }
   ],
   "source": [
    "collection.insert_one(post)"
   ]
  },
  {
   "cell_type": "code",
   "execution_count": 23,
   "metadata": {},
   "outputs": [],
   "source": [
    "post_id = collection.insert_one(post).inserted_id"
   ]
  },
  {
   "cell_type": "code",
   "execution_count": 24,
   "metadata": {},
   "outputs": [
    {
     "data": {
      "text/plain": [
       "ObjectId('5e2fc4464f76791bb8899dfd')"
      ]
     },
     "execution_count": 24,
     "metadata": {},
     "output_type": "execute_result"
    }
   ],
   "source": [
    "post_id"
   ]
  },
  {
   "cell_type": "code",
   "execution_count": 25,
   "metadata": {},
   "outputs": [
    {
     "name": "stderr",
     "output_type": "stream",
     "text": [
      "C:\\Users\\mediance_ssh\\Anaconda3\\lib\\site-packages\\ipykernel\\__main__.py:1: DeprecationWarning: count is deprecated. Use estimated_document_count or count_documents instead. Please note that $where must be replaced by $expr, $near must be replaced by $geoWithin with $center, and $nearSphere must be replaced by $geoWithin with $centerSphere\n",
      "  if __name__ == '__main__':\n"
     ]
    },
    {
     "data": {
      "text/plain": [
       "3"
      ]
     },
     "execution_count": 25,
     "metadata": {},
     "output_type": "execute_result"
    }
   ],
   "source": [
    "collection.count()"
   ]
  },
  {
   "cell_type": "code",
   "execution_count": null,
   "metadata": {},
   "outputs": [],
   "source": [
    "### insert many"
   ]
  },
  {
   "cell_type": "code",
   "execution_count": 26,
   "metadata": {},
   "outputs": [],
   "source": [
    "result = collection.insert_many([{\"number\":i} for i in range(10)])"
   ]
  },
  {
   "cell_type": "code",
   "execution_count": 27,
   "metadata": {},
   "outputs": [
    {
     "name": "stderr",
     "output_type": "stream",
     "text": [
      "C:\\Users\\mediance_ssh\\Anaconda3\\lib\\site-packages\\ipykernel\\__main__.py:1: DeprecationWarning: count is deprecated. Use estimated_document_count or count_documents instead. Please note that $where must be replaced by $expr, $near must be replaced by $geoWithin with $center, and $nearSphere must be replaced by $geoWithin with $centerSphere\n",
      "  if __name__ == '__main__':\n"
     ]
    },
    {
     "data": {
      "text/plain": [
       "13"
      ]
     },
     "execution_count": 27,
     "metadata": {},
     "output_type": "execute_result"
    }
   ],
   "source": [
    "collection.count()"
   ]
  },
  {
   "cell_type": "code",
   "execution_count": 28,
   "metadata": {},
   "outputs": [],
   "source": [
    "data = list()\n",
    "data.append({'list':'test'})\n",
    "data.append({'list':'test'})\n",
    "data.append({'list':'test'})\n",
    "data.append({'list':'test'})\n",
    "data.append({'list':'test'})\n",
    "result = collection.insert_many(data)"
   ]
  },
  {
   "cell_type": "code",
   "execution_count": 29,
   "metadata": {},
   "outputs": [
    {
     "name": "stderr",
     "output_type": "stream",
     "text": [
      "C:\\Users\\mediance_ssh\\Anaconda3\\lib\\site-packages\\ipykernel\\__main__.py:1: DeprecationWarning: count is deprecated. Use estimated_document_count or count_documents instead. Please note that $where must be replaced by $expr, $near must be replaced by $geoWithin with $center, and $nearSphere must be replaced by $geoWithin with $centerSphere\n",
      "  if __name__ == '__main__':\n"
     ]
    },
    {
     "data": {
      "text/plain": [
       "18"
      ]
     },
     "execution_count": 29,
     "metadata": {},
     "output_type": "execute_result"
    }
   ],
   "source": [
    "collection.count()"
   ]
  },
  {
   "cell_type": "markdown",
   "metadata": {},
   "source": [
    "### find"
   ]
  },
  {
   "cell_type": "code",
   "execution_count": 40,
   "metadata": {},
   "outputs": [
    {
     "name": "stdout",
     "output_type": "stream",
     "text": [
      "{'text': 'my first blog post', 'author': 'mike', '_id': ObjectId('5e2fc0304f76791bb8899dfb'), 'tags': ['a', 'b', 'c']}\n",
      "{'text': 'my first blog post', 'author': 'mike', '_id': ObjectId('5e2fc2f54f76791bb8899dfc'), 'tags': ['a', 'b', 'c']}\n",
      "{'text': 'my first blog post', 'author': 'mike2', '_id': ObjectId('5e2fc4464f76791bb8899dfd'), 'tags': ['a', 'b', 'c']}\n",
      "{'number': 0, '_id': ObjectId('5e2fc5e04f76791bb8899dfe')}\n",
      "{'number': 1, '_id': ObjectId('5e2fc5e04f76791bb8899dff')}\n",
      "{'number': 2, '_id': ObjectId('5e2fc5e04f76791bb8899e00')}\n",
      "{'number': 3, '_id': ObjectId('5e2fc5e04f76791bb8899e01')}\n",
      "{'number': 4, '_id': ObjectId('5e2fc5e04f76791bb8899e02')}\n",
      "{'number': 5, '_id': ObjectId('5e2fc5e04f76791bb8899e03')}\n",
      "{'number': 6, '_id': ObjectId('5e2fc5e04f76791bb8899e04')}\n",
      "{'number': 7, '_id': ObjectId('5e2fc5e04f76791bb8899e05')}\n",
      "{'number': 8, '_id': ObjectId('5e2fc5e04f76791bb8899e06')}\n",
      "{'number': 9, '_id': ObjectId('5e2fc5e04f76791bb8899e07')}\n",
      "{'_id': ObjectId('5e2fc8264f76791bb8899e08'), 'list': 'test'}\n",
      "{'_id': ObjectId('5e2fc8264f76791bb8899e09'), 'list': 'test'}\n",
      "{'_id': ObjectId('5e2fc8264f76791bb8899e0a'), 'list': 'test'}\n",
      "{'_id': ObjectId('5e2fc8264f76791bb8899e0b'), 'list': 'test'}\n",
      "{'_id': ObjectId('5e2fc8264f76791bb8899e0c'), 'list': 'test'}\n"
     ]
    }
   ],
   "source": [
    "# 레코드 전체 검색\n",
    "data = collection.find()\n",
    "for result in data:\n",
    "    print(result)"
   ]
  },
  {
   "cell_type": "code",
   "execution_count": 37,
   "metadata": {},
   "outputs": [
    {
     "data": {
      "text/plain": [
       "{'_id': ObjectId('5e2fc5e04f76791bb8899e00'), 'number': 2}"
      ]
     },
     "execution_count": 37,
     "metadata": {},
     "output_type": "execute_result"
    }
   ],
   "source": [
    "# 첫번째 하나 검색\n",
    "collection.find_one({'number':2})"
   ]
  },
  {
   "cell_type": "code",
   "execution_count": 43,
   "metadata": {},
   "outputs": [
    {
     "name": "stdout",
     "output_type": "stream",
     "text": [
      "{'text': 'my first blog post', 'author': 'mike', '_id': ObjectId('5e2fc0304f76791bb8899dfb'), 'tags': ['a', 'b', 'c']}\n",
      "{'text': 'my first blog post', 'author': 'mike', '_id': ObjectId('5e2fc2f54f76791bb8899dfc'), 'tags': ['a', 'b', 'c']}\n"
     ]
    }
   ],
   "source": [
    "# 전체검색 \n",
    "data = collection.find({'author':'mike'})\n",
    "for result in data:\n",
    "    print(result)"
   ]
  },
  {
   "cell_type": "markdown",
   "metadata": {},
   "source": [
    "### update"
   ]
  },
  {
   "cell_type": "code",
   "execution_count": 45,
   "metadata": {},
   "outputs": [
    {
     "data": {
      "text/plain": [
       "{'_id': ObjectId('5e2fc4464f76791bb8899dfd'),\n",
       " 'author': 'mike2',\n",
       " 'tags': ['a', 'b', 'c'],\n",
       " 'text': 'my first blog post'}"
      ]
     },
     "execution_count": 45,
     "metadata": {},
     "output_type": "execute_result"
    }
   ],
   "source": [
    "# 먼저 검색되는 한개 수정\n",
    "collection.find_one({'author':'mike2'})"
   ]
  },
  {
   "cell_type": "code",
   "execution_count": 46,
   "metadata": {},
   "outputs": [
    {
     "data": {
      "text/plain": [
       "<pymongo.results.UpdateResult at 0x4be7a48>"
      ]
     },
     "execution_count": 46,
     "metadata": {},
     "output_type": "execute_result"
    }
   ],
   "source": [
    "collection.update_one({'author':'mike2'}, {\"$set\":{'text':'test update'}})"
   ]
  },
  {
   "cell_type": "code",
   "execution_count": 48,
   "metadata": {},
   "outputs": [
    {
     "name": "stdout",
     "output_type": "stream",
     "text": [
      "{'text': 'test update', 'author': 'mike2', '_id': ObjectId('5e2fc4464f76791bb8899dfd'), 'tags': ['a', 'b', 'c']}\n"
     ]
    }
   ],
   "source": [
    "for data in collection.find({'author':'mike2'}):\n",
    "    print(data)"
   ]
  },
  {
   "cell_type": "code",
   "execution_count": 49,
   "metadata": {},
   "outputs": [
    {
     "data": {
      "text/plain": [
       "<pymongo.results.UpdateResult at 0x4be7a08>"
      ]
     },
     "execution_count": 49,
     "metadata": {},
     "output_type": "execute_result"
    }
   ],
   "source": [
    "# 조건에 맞는 여러개 수정\n",
    "collection.update_many({'author':'mike'}, {'$set':{'text':'test update many'}})"
   ]
  },
  {
   "cell_type": "code",
   "execution_count": 51,
   "metadata": {},
   "outputs": [
    {
     "name": "stdout",
     "output_type": "stream",
     "text": [
      "{'text': 'test update many', 'author': 'mike', '_id': ObjectId('5e2fc0304f76791bb8899dfb'), 'tags': ['a', 'b', 'c']}\n",
      "{'text': 'test update many', 'author': 'mike', '_id': ObjectId('5e2fc2f54f76791bb8899dfc'), 'tags': ['a', 'b', 'c']}\n"
     ]
    }
   ],
   "source": [
    "for data in collection.find({'author':'mike'}):\n",
    "    print(data)"
   ]
  },
  {
   "cell_type": "markdown",
   "metadata": {},
   "source": [
    "### delete"
   ]
  },
  {
   "cell_type": "code",
   "execution_count": 52,
   "metadata": {},
   "outputs": [
    {
     "name": "stdout",
     "output_type": "stream",
     "text": [
      "{'number': 0, '_id': ObjectId('5e2fc5e04f76791bb8899dfe')}\n"
     ]
    }
   ],
   "source": [
    "for data in collection.find({'number':0}):\n",
    "    print(data)"
   ]
  },
  {
   "cell_type": "code",
   "execution_count": 53,
   "metadata": {},
   "outputs": [
    {
     "data": {
      "text/plain": [
       "<pymongo.results.DeleteResult at 0x555cc48>"
      ]
     },
     "execution_count": 53,
     "metadata": {},
     "output_type": "execute_result"
    }
   ],
   "source": [
    "collection.delete_one({'number':0})"
   ]
  },
  {
   "cell_type": "code",
   "execution_count": 54,
   "metadata": {},
   "outputs": [],
   "source": [
    "for data in collection.find({'number':0}):\n",
    "    print(data)"
   ]
  },
  {
   "cell_type": "code",
   "execution_count": null,
   "metadata": {},
   "outputs": [],
   "source": [
    "# 조건에 맞는 여러개 삭제\n",
    "collection.delete_many({'number':1})"
   ]
  }
 ],
 "metadata": {
  "anaconda-cloud": {},
  "kernelspec": {
   "display_name": "Python [conda env:Anaconda3]",
   "language": "python",
   "name": "conda-env-Anaconda3-py"
  },
  "language_info": {
   "codemirror_mode": {
    "name": "ipython",
    "version": 3
   },
   "file_extension": ".py",
   "mimetype": "text/x-python",
   "name": "python",
   "nbconvert_exporter": "python",
   "pygments_lexer": "ipython3",
   "version": "3.5.6"
  }
 },
 "nbformat": 4,
 "nbformat_minor": 2
}
