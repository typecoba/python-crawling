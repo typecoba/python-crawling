{
 "cells": [
  {
   "cell_type": "code",
   "execution_count": 24,
   "metadata": {},
   "outputs": [],
   "source": [
    "import pymongo\n",
    "import json\n",
    "import re"
   ]
  },
  {
   "cell_type": "code",
   "execution_count": 2,
   "metadata": {},
   "outputs": [],
   "source": [
    "connection = pymongo.MongoClient('localhost', 27017)"
   ]
  },
  {
   "cell_type": "code",
   "execution_count": 4,
   "metadata": {},
   "outputs": [],
   "source": [
    "db = connection.test"
   ]
  },
  {
   "cell_type": "code",
   "execution_count": 5,
   "metadata": {},
   "outputs": [],
   "source": [
    "collection = db.test_collection2"
   ]
  },
  {
   "cell_type": "code",
   "execution_count": 6,
   "metadata": {},
   "outputs": [],
   "source": [
    "# load json data"
   ]
  },
  {
   "cell_type": "code",
   "execution_count": 9,
   "metadata": {},
   "outputs": [],
   "source": [
    "path = './scrapy_project/testScrapy/testScrapy/test.json'\n",
    "with open(path) as json_file:\n",
    "    json_data = json.load(json_file)"
   ]
  },
  {
   "cell_type": "code",
   "execution_count": 14,
   "metadata": {},
   "outputs": [
    {
     "name": "stdout",
     "output_type": "stream",
     "text": [
      "{'parentReviewSeq': 749873181, 'highLightedContent': '두말하면 잔소리지요\\n세번째구매해서이미 먹고있는중입니다!.\\n설선물이벤트도 하던데 쟁여놀까싶네요!!!', 'reviewScore': 5, 'contents': '두말하면 잔소리지요\\n세번째구매해서이미 먹고있는중입니다!.\\n설선물이벤트도 하던데 쟁여놀까싶네요!!!', 'resources': [], 'eventSeq': None, 'help': False, 'helpCount': 0, 'writerProfileImageUrl': 'https://profile-phinf.pstatic.net/48284/fb68642c04801d8994f30092be9d4e658fe9568b9cc4ab3255cf5afa10996a42.jpg', 'visible': True, 'createdDate': '2020-01-16 13:20:51', 'afterMonth': True, 'userSizeText': None, 'freeTrialReview': False, 'purchasedOptionContents': '커피대신 마시자! / 링티 1박스 (10회분): 링티 레몬맛 1박스 (10회분)', 'reportable': True, 'representResource': None, 'purchasedProductName': '[모두를 위한]링티 1박스 (10회분, 레몬/복숭아 선택)', 'eventTitle': '', 'best': False, 'reportStatusCheckUrl': None, 'channelServiceType': None, 'contentType': 'TEXT', 'reviewScorePercent': 100, 'repurchase': False, 'comments': [{'commentContent': '안녕하세요 고객님! 링티입니다. 링티를 3번째 재구매 해주셔서 대단히 감사드립니다^_^ 새해에는 링티와 함께 건강하고 행복한 한 해 보내세요!', 'id': 223612642, 'createdDate': '2020-01-17 10:04:20', 'blind': False}], 'id': 786431870, 'writerId': 'rwj0****'}\n",
      "{'parentReviewSeq': None, 'highLightedContent': '은근 맛이 강해서 놀랐음 복숭아맛좋아해서 샀는데 레몬 사야겟어요 달다가 새콤하니 이상하네요 포카리보다 맛강해야', 'reviewScore': 4, 'contents': '은근 맛이 강해서 놀랐음 복숭아맛좋아해서 샀는데 레몬 사야겟어요 달다가 새콤하니 이상하네요 포카리보다 맛강해야', 'resources': [], 'eventSeq': None, 'help': False, 'helpCount': 0, 'writerProfileImageUrl': 'https://img-shop.pstatic.net/front/common/profile_default.png', 'visible': True, 'createdDate': '2020-01-16 13:04:19', 'afterMonth': False, 'userSizeText': None, 'freeTrialReview': False, 'purchasedOptionContents': '커피대신 마시자! / 링티 1박스 (10회분): 링티 복숭아맛 1박스 (10회분)', 'reportable': True, 'representResource': None, 'purchasedProductName': '[모두를 위한]링티 1박스 (10회분, 레몬/복숭아 선택)', 'eventTitle': '', 'best': False, 'reportStatusCheckUrl': None, 'channelServiceType': None, 'contentType': 'TEXT', 'reviewScorePercent': 80, 'repurchase': False, 'comments': [{'commentContent': '안녕하세요 고객님~ 링티입니다. 링티의 맛이 생각보다 강해서 놀라셨군요ㅠㅠ 상큼한 레몬맛은 고객님의 입맛에 잘 맞으면 좋겠습니다. 2020년도 링티와 함께 힘차고 밝은 한 해 보내시길 바랍니다!', 'id': 223612526, 'createdDate': '2020-01-17 10:03:30', 'blind': False}], 'id': 786423370, 'writerId': 'dlgy****'}\n",
      "{'parentReviewSeq': 751966088, 'highLightedContent': '먹어도 효과는 없어요', 'reviewScore': 3, 'contents': '먹어도 효과는 없어요', 'resources': [], 'eventSeq': None, 'help': False, 'helpCount': 0, 'writerProfileImageUrl': 'https://img-shop.pstatic.net/front/common/profile_default.png', 'visible': True, 'createdDate': '2020-01-16 11:53:31', 'afterMonth': True, 'userSizeText': None, 'freeTrialReview': False, 'purchasedOptionContents': '커피대신 마시자! / 링티 1박스 (10회분): 링티 레몬맛 1박스 (10회분)', 'reportable': True, 'representResource': None, 'purchasedProductName': '[모두를 위한]링티 1박스 (10회분, 레몬/복숭아 선택)', 'eventTitle': '', 'best': False, 'reportStatusCheckUrl': None, 'channelServiceType': None, 'contentType': 'TEXT', 'reviewScorePercent': 60, 'repurchase': False, 'comments': [{'commentContent': '안녕하세요 고객님, 링티입니다. 링티의 효과는 사람마다 차이가 나기 마련인데, 고객님께서는 효과를 느끼시지 못했다고 하니 유감입니다. 앞으로 더욱 많은 고객님께 도움을 줄 수 있는 (주)링거워터가 되겠습니다. 소중한 의견 감사드립니다 :)', 'id': 223609342, 'createdDate': '2020-01-17 09:41:26', 'blind': False}], 'id': 786388674, 'writerId': 'ujm8****'}\n",
      "{'parentReviewSeq': None, 'highLightedContent': '물만마시면 화장실바로가는데\\n링티는 몸에 쏵흡수되는 느낌이네요', 'reviewScore': 5, 'contents': '물만마시면 화장실바로가는데\\n링티는 몸에 쏵흡수되는 느낌이네요', 'resources': [], 'eventSeq': None, 'help': False, 'helpCount': 0, 'writerProfileImageUrl': 'https://img-shop.pstatic.net/front/common/profile_default.png', 'visible': True, 'createdDate': '2020-01-16 11:28:35', 'afterMonth': False, 'userSizeText': None, 'freeTrialReview': False, 'purchasedOptionContents': '커피대신 마시자! / 링티 1박스 (10회분): 링티 레몬맛 1박스 (10회분)', 'reportable': True, 'representResource': None, 'purchasedProductName': '[모두를 위한]링티 1박스 (10회분, 레몬/복숭아 선택)', 'eventTitle': '', 'best': False, 'reportStatusCheckUrl': None, 'channelServiceType': None, 'contentType': 'TEXT', 'reviewScorePercent': 100, 'repurchase': True, 'comments': [{'commentContent': '안녕하세요 고객님! 링티입니다. 링티의 장점은 소장벽에서 흡수가 빠르게 잘 된다는 점입니다. 새해에도 링티와 함께 건강하고 행복한 한 해 보내세요!', 'id': 223611496, 'createdDate': '2020-01-17 09:57:52', 'blind': False}], 'id': 786375859, 'writerId': 'al75****'}\n",
      "{'parentReviewSeq': None, 'highLightedContent': '아들이 운동시 힘들어서 사달라고 해서 구매했는데 복숭아향이 은은하게 나면서 맛있고 피로회복에 도움이 된다고 하네요', 'reviewScore': 5, 'contents': '아들이 운동시 힘들어서 사달라고 해서 구매했는데 복숭아향이 은은하게 나면서 맛있고 피로회복에 도움이 된다고 하네요', 'resources': [], 'eventSeq': None, 'help': False, 'helpCount': 0, 'writerProfileImageUrl': 'https://profile-phinf.pstatic.net/18208/c817cdaaaea99e2d96e145feebfdb047532f8735a28138e2ae7f1dcc4472f227.jpg', 'visible': True, 'createdDate': '2020-01-15 21:17:04', 'afterMonth': False, 'userSizeText': None, 'freeTrialReview': False, 'purchasedOptionContents': '커피대신 마시자! / 링티 1박스 (10회분): 링티 복숭아맛 1박스 (10회분)', 'reportable': True, 'representResource': None, 'purchasedProductName': '[모두를 위한]링티 1박스 (10회분, 레몬/복숭아 선택)', 'eventTitle': '', 'best': False, 'reportStatusCheckUrl': None, 'channelServiceType': None, 'contentType': 'TEXT', 'reviewScorePercent': 100, 'repurchase': False, 'comments': [{'commentContent': '안녕하세요 고객님! 링티입니다. 아드님께서 운동 하실 때 링티로 효과를 보았다고 하니 저희도 뿌듯합니다. 새해에도 링티와 함께 힘차고 행복한 한 해 보내시길 바랍니다 ^^', 'id': 223577630, 'createdDate': '2020-01-16 17:01:47', 'blind': False}], 'id': 786126614, 'writerId': 'loud****'}\n",
      "{'parentReviewSeq': None, 'highLightedContent': '배송빠르고 만족해요', 'reviewScore': 5, 'contents': '배송빠르고 만족해요', 'resources': [], 'eventSeq': None, 'help': False, 'helpCount': 0, 'writerProfileImageUrl': 'https://img-shop.pstatic.net/front/common/profile_default.png', 'visible': True, 'createdDate': '2020-01-15 18:13:33', 'afterMonth': False, 'userSizeText': None, 'freeTrialReview': False, 'purchasedOptionContents': '커피대신 마시자! / 링티 1박스 (10회분): 링티 레몬맛 1박스 (10회분)', 'reportable': True, 'representResource': None, 'purchasedProductName': '[모두를 위한]링티 1박스 (10회분, 레몬/복숭아 선택)', 'eventTitle': '', 'best': False, 'reportStatusCheckUrl': None, 'channelServiceType': None, 'contentType': 'TEXT', 'reviewScorePercent': 100, 'repurchase': True, 'comments': [{'commentContent': '안녕하세요 고객님! 링티입니다. 링티를 빠르게 배송 받으셨다니 다행입니다. 앞으로도 고객만족에 최선을 다하는 (주)링거워터가 되겠습니다. 새해복 많이 받으세요~~', 'id': 223529197, 'createdDate': '2020-01-16 09:56:53', 'blind': False}], 'id': 786023137, 'writerId': 'me__****'}\n"
     ]
    }
   ],
   "source": [
    "for i,data in enumerate(json_data) : \n",
    "    if i > 5 : continue    \n",
    "    print(data)"
   ]
  },
  {
   "cell_type": "code",
   "execution_count": null,
   "metadata": {},
   "outputs": [],
   "source": [
    "# preprocessing\n",
    "# score/comment/date 세가지.\n",
    "# 이모지 제거"
   ]
  },
  {
   "cell_type": "code",
   "execution_count": 45,
   "metadata": {},
   "outputs": [],
   "source": [
    "for i,data in enumerate(json_data) : \n",
    "#     if i > 10 : continue\n",
    "    post = {'score':data['reviewScore'], 'comments': re.sub('[^0-9a-zA-Zr-힗\\n\\s]','',data['contents']), 'regdate':data['createdDate']}\n",
    "    collection.insert_one(post)"
   ]
  },
  {
   "cell_type": "code",
   "execution_count": 15,
   "metadata": {},
   "outputs": [
    {
     "data": {
      "text/plain": [
       "<pymongo.results.InsertManyResult at 0x92b7208>"
      ]
     },
     "execution_count": 15,
     "metadata": {},
     "output_type": "execute_result"
    }
   ],
   "source": [
    "collection.insert_many(json_data)"
   ]
  },
  {
   "cell_type": "code",
   "execution_count": 46,
   "metadata": {},
   "outputs": [
    {
     "name": "stderr",
     "output_type": "stream",
     "text": [
      "C:\\Users\\mediance_ssh\\Anaconda3\\lib\\site-packages\\ipykernel\\__main__.py:1: DeprecationWarning: count is deprecated. Use estimated_document_count or count_documents instead. Please note that $where must be replaced by $expr, $near must be replaced by $geoWithin with $center, and $nearSphere must be replaced by $geoWithin with $centerSphere\n",
      "  if __name__ == '__main__':\n"
     ]
    },
    {
     "data": {
      "text/plain": [
       "9809"
      ]
     },
     "execution_count": 46,
     "metadata": {},
     "output_type": "execute_result"
    }
   ],
   "source": [
    "collection.count()"
   ]
  },
  {
   "cell_type": "code",
   "execution_count": 43,
   "metadata": {},
   "outputs": [
    {
     "data": {
      "text/plain": [
       "<pymongo.results.DeleteResult at 0x8166b88>"
      ]
     },
     "execution_count": 43,
     "metadata": {},
     "output_type": "execute_result"
    }
   ],
   "source": [
    "collection.delete_many({})"
   ]
  },
  {
   "cell_type": "code",
   "execution_count": 44,
   "metadata": {},
   "outputs": [
    {
     "name": "stderr",
     "output_type": "stream",
     "text": [
      "C:\\Users\\mediance_ssh\\Anaconda3\\lib\\site-packages\\ipykernel\\__main__.py:1: DeprecationWarning: count is deprecated. Use estimated_document_count or count_documents instead. Please note that $where must be replaced by $expr, $near must be replaced by $geoWithin with $center, and $nearSphere must be replaced by $geoWithin with $centerSphere\n",
      "  if __name__ == '__main__':\n"
     ]
    },
    {
     "data": {
      "text/plain": [
       "0"
      ]
     },
     "execution_count": 44,
     "metadata": {},
     "output_type": "execute_result"
    }
   ],
   "source": [
    "collection.count()"
   ]
  },
  {
   "cell_type": "code",
   "execution_count": null,
   "metadata": {},
   "outputs": [],
   "source": []
  }
 ],
 "metadata": {
  "kernelspec": {
   "display_name": "Python [conda env:Anaconda3]",
   "language": "python",
   "name": "conda-env-Anaconda3-py"
  },
  "language_info": {
   "codemirror_mode": {
    "name": "ipython",
    "version": 3
   },
   "file_extension": ".py",
   "mimetype": "text/x-python",
   "name": "python",
   "nbconvert_exporter": "python",
   "pygments_lexer": "ipython3",
   "version": "3.5.6"
  }
 },
 "nbformat": 4,
 "nbformat_minor": 2
}
